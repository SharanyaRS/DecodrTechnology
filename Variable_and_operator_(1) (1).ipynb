{
  "nbformat": 4,
  "nbformat_minor": 0,
  "metadata": {
    "colab": {
      "name": "Variable_and_operator_(1).ipynb",
      "provenance": [],
      "collapsed_sections": []
    },
    "kernelspec": {
      "name": "python3",
      "display_name": "Python 3"
    },
    "language_info": {
      "name": "python"
    }
  },
  "cells": [
    {
      "cell_type": "markdown",
      "metadata": {
        "id": "xkS9gXm7JAwb"
      },
      "source": [
        "# Variable and Operator "
      ]
    },
    {
      "cell_type": "markdown",
      "metadata": {
        "id": "bpWJpSkLKLHd"
      },
      "source": [
        "**[Slide No.- 19]**\n",
        "\n",
        "1. Which one of the following is correct way of declaring and initialising a variable, x with value 5?\n",
        "\n",
        "A. int x\n",
        "  \n",
        "    x=5\n",
        "\n",
        "B. int x=5\n",
        "\n",
        "C. x=5\n",
        "\n",
        "D. declare x=5\n",
        "\n",
        "\n",
        "\n",
        "\n"
      ]
    },
    {
      "cell_type": "code",
      "metadata": {
        "colab": {
          "base_uri": "https://localhost:8080/"
        },
        "id": "IjZvmMm9GBL_",
        "outputId": "91fcbf9d-33fa-44db-e3a2-522e2315c486"
      },
      "source": [
        "x=5\n",
        "print(x)"
      ],
      "execution_count": 2,
      "outputs": [
        {
          "output_type": "stream",
          "text": [
            "5\n"
          ],
          "name": "stdout"
        }
      ]
    },
    {
      "cell_type": "markdown",
      "metadata": {
        "id": "gpg53f-UKhi1"
      },
      "source": [
        "**[Slide No.-19]**\n",
        "\n",
        "2. Which of the following is not valid variable name in Python?\n",
        "\n",
        "A. _var = 6\n",
        "\n",
        "B. var_name = 6\n",
        "\n",
        "C. var11 = 6\n",
        "\n",
        "D. 11var = 6"
      ]
    },
    {
      "cell_type": "code",
      "metadata": {
        "id": "4eFCqihlKg6W",
        "colab": {
          "base_uri": "https://localhost:8080/",
          "height": 129
        },
        "outputId": "87925e10-c987-41c7-e365-c8d3fbed5857"
      },
      "source": [
        "\n",
        "11var = 6 option D\n"
      ],
      "execution_count": 3,
      "outputs": [
        {
          "output_type": "error",
          "ename": "SyntaxError",
          "evalue": "ignored",
          "traceback": [
            "\u001b[0;36m  File \u001b[0;32m\"<ipython-input-3-e5af80b61afd>\"\u001b[0;36m, line \u001b[0;32m2\u001b[0m\n\u001b[0;31m    11var = 6\u001b[0m\n\u001b[0m        ^\u001b[0m\n\u001b[0;31mSyntaxError\u001b[0m\u001b[0;31m:\u001b[0m invalid syntax\n"
          ]
        }
      ]
    },
    {
      "cell_type": "markdown",
      "metadata": {
        "id": "uIU52OVeLOO2"
      },
      "source": [
        "**[Slide No.- 19]**\n",
        "\n",
        "\n",
        "3. Which of the following will give error?\n",
        "\n",
        "A. a=b=c=1\n",
        "\n",
        "B. a,b,c=1\n",
        "\n",
        "C. a b c=1, 4, 1.5\n",
        "\n",
        "D. None of the above"
      ]
    },
    {
      "cell_type": "code",
      "metadata": {
        "id": "ZFU-przBLmgX",
        "colab": {
          "base_uri": "https://localhost:8080/",
          "height": 180
        },
        "outputId": "50c7d016-a5a0-4fdb-cf76-9e0eb0bcdcbf"
      },
      "source": [
        "a,b,c=1\n",
        "print(a,b,c)"
      ],
      "execution_count": 14,
      "outputs": [
        {
          "output_type": "error",
          "ename": "TypeError",
          "evalue": "ignored",
          "traceback": [
            "\u001b[0;31m---------------------------------------------------------------------------\u001b[0m",
            "\u001b[0;31mTypeError\u001b[0m                                 Traceback (most recent call last)",
            "\u001b[0;32m<ipython-input-14-68813152c177>\u001b[0m in \u001b[0;36m<module>\u001b[0;34m()\u001b[0m\n\u001b[0;32m----> 1\u001b[0;31m \u001b[0ma\u001b[0m\u001b[0;34m,\u001b[0m\u001b[0mb\u001b[0m\u001b[0;34m,\u001b[0m\u001b[0mc\u001b[0m\u001b[0;34m=\u001b[0m\u001b[0;36m1\u001b[0m\u001b[0;34m\u001b[0m\u001b[0;34m\u001b[0m\u001b[0m\n\u001b[0m\u001b[1;32m      2\u001b[0m \u001b[0mprint\u001b[0m\u001b[0;34m(\u001b[0m\u001b[0ma\u001b[0m\u001b[0;34m,\u001b[0m\u001b[0mb\u001b[0m\u001b[0;34m,\u001b[0m\u001b[0mc\u001b[0m\u001b[0;34m)\u001b[0m\u001b[0;34m\u001b[0m\u001b[0;34m\u001b[0m\u001b[0m\n",
            "\u001b[0;31mTypeError\u001b[0m: cannot unpack non-iterable int object"
          ]
        }
      ]
    },
    {
      "cell_type": "code",
      "metadata": {
        "colab": {
          "base_uri": "https://localhost:8080/",
          "height": 129
        },
        "id": "5RGFAc-cJNyl",
        "outputId": "e039736f-73ab-4fc5-a739-976fd1c695a8"
      },
      "source": [
        "a b c=1, 4, 1.5\n",
        "print(a b c)"
      ],
      "execution_count": 15,
      "outputs": [
        {
          "output_type": "error",
          "ename": "SyntaxError",
          "evalue": "ignored",
          "traceback": [
            "\u001b[0;36m  File \u001b[0;32m\"<ipython-input-15-40c5a09221b9>\"\u001b[0;36m, line \u001b[0;32m1\u001b[0m\n\u001b[0;31m    a b c=1, 4, 1.5\u001b[0m\n\u001b[0m      ^\u001b[0m\n\u001b[0;31mSyntaxError\u001b[0m\u001b[0;31m:\u001b[0m invalid syntax\n"
          ]
        }
      ]
    },
    {
      "cell_type": "markdown",
      "metadata": {
        "id": "sOaKfvOMMdEw"
      },
      "source": [
        "**[Slide No.- 21]**\n",
        "\n",
        "4. What is the output of the following code\n",
        "\n",
        "x = 6\n",
        "\n",
        "y = 2\n",
        "\n",
        "a=print(x ** y)\n",
        "\n",
        "b= print(x // y)"
      ]
    },
    {
      "cell_type": "code",
      "metadata": {
        "colab": {
          "base_uri": "https://localhost:8080/"
        },
        "id": "9T4mvv6lJL3v",
        "outputId": "85becef3-605e-406b-875b-b8e8bb8833c3"
      },
      "source": [
        "print(6//2)\n",
        "\n",
        "print(6**2)"
      ],
      "execution_count": 17,
      "outputs": [
        {
          "output_type": "stream",
          "text": [
            "3\n",
            "36\n"
          ],
          "name": "stdout"
        }
      ]
    },
    {
      "cell_type": "code",
      "metadata": {
        "id": "8Y5nOCbuLywt",
        "colab": {
          "base_uri": "https://localhost:8080/"
        },
        "outputId": "5ab87c2a-66e6-4ff0-a555-782370f75e9d"
      },
      "source": [
        "\n"
      ],
      "execution_count": null,
      "outputs": [
        {
          "output_type": "stream",
          "text": [
            "3\n",
            "36\n"
          ],
          "name": "stdout"
        }
      ]
    },
    {
      "cell_type": "markdown",
      "metadata": {
        "id": "-FxzjkhMNkZw"
      },
      "source": [
        "**[Slide No.-21]**\n",
        "\n",
        "# find the value of this expression (v+w) * x/ y\n",
        "v = 4\n",
        "\n",
        "w = 5\n",
        "\n",
        "x = 8\n",
        "\n",
        "\n",
        "y = 2\n",
        "\n",
        "z = 0"
      ]
    },
    {
      "cell_type": "code",
      "metadata": {
        "id": "kx6gTDJWNjnT",
        "colab": {
          "base_uri": "https://localhost:8080/"
        },
        "outputId": "b037ea3b-99d4-4502-d14e-643c76128e41"
      },
      "source": [
        "\n",
        "(4+5)*8/2"
      ],
      "execution_count": 18,
      "outputs": [
        {
          "output_type": "execute_result",
          "data": {
            "text/plain": [
              "36.0"
            ]
          },
          "metadata": {
            "tags": []
          },
          "execution_count": 18
        }
      ]
    },
    {
      "cell_type": "markdown",
      "metadata": {
        "id": "KrG9aIGjN6C5"
      },
      "source": [
        "**[Slide No.- 21]**\n",
        "\n",
        "6. What is the output of print(10 - 4 * 2)"
      ]
    },
    {
      "cell_type": "code",
      "metadata": {
        "id": "VfvhDJ2zN5bg",
        "colab": {
          "base_uri": "https://localhost:8080/"
        },
        "outputId": "f842fc95-9aae-4f74-d106-b4c8a6982fb1"
      },
      "source": [
        "\n",
        "print(10-4*2)"
      ],
      "execution_count": 19,
      "outputs": [
        {
          "output_type": "stream",
          "text": [
            "2\n"
          ],
          "name": "stdout"
        }
      ]
    },
    {
      "cell_type": "markdown",
      "metadata": {
        "id": "k3JGKOfQOBhQ"
      },
      "source": [
        "**[Slide No.-21]**\n",
        "\n",
        "7. What is the output of print(2 * 3 ** 3 * 4)"
      ]
    },
    {
      "cell_type": "code",
      "metadata": {
        "id": "BYuPgLHZOAr4",
        "colab": {
          "base_uri": "https://localhost:8080/"
        },
        "outputId": "9b31d101-8006-41bf-edf4-c332ff33ffbd"
      },
      "source": [
        "\n",
        "print(2 * 3 ** 3 * 4)"
      ],
      "execution_count": 21,
      "outputs": [
        {
          "output_type": "stream",
          "text": [
            "216\n"
          ],
          "name": "stdout"
        }
      ]
    },
    {
      "cell_type": "markdown",
      "metadata": {
        "id": "xW2pUR61OMGp"
      },
      "source": [
        "8. What is the output of the expression  print(-18 // 4)"
      ]
    },
    {
      "cell_type": "code",
      "metadata": {
        "id": "nkDvUrFIOLWo",
        "colab": {
          "base_uri": "https://localhost:8080/"
        },
        "outputId": "fd9a884f-7ef5-43a8-be00-1e8bb2cc3c48"
      },
      "source": [
        "\n",
        "print(-18 // 4)"
      ],
      "execution_count": 24,
      "outputs": [
        {
          "output_type": "stream",
          "text": [
            "-5\n"
          ],
          "name": "stdout"
        }
      ]
    },
    {
      "cell_type": "markdown",
      "metadata": {
        "id": "jKsDtqzXOu1Y"
      },
      "source": [
        "**[Slide No.- 21]**\n",
        "\n",
        "9. Write a program to check 5 is less then 10 or greater then 3."
      ]
    },
    {
      "cell_type": "code",
      "metadata": {
        "id": "F-FwpWUMOuNU",
        "colab": {
          "base_uri": "https://localhost:8080/"
        },
        "outputId": "82f606de-3f62-4e26-cfa0-6fc3e581e286"
      },
      "source": [
        "\n",
        "if 5<10 or 5>3:\n",
        "  print('5 is less then 10 or greater then 3')\n",
        "else:\n",
        "  print(\"wrong ourput\")"
      ],
      "execution_count": 25,
      "outputs": [
        {
          "output_type": "stream",
          "text": [
            "5 is less then 10 or greater then 3\n"
          ],
          "name": "stdout"
        }
      ]
    },
    {
      "cell_type": "markdown",
      "metadata": {
        "id": "tZ86dv17lJaf"
      },
      "source": [
        "10 . Write a program  by using 'and' ,'or' And 'not' operator ?"
      ]
    },
    {
      "cell_type": "code",
      "metadata": {
        "id": "81iiP2NKvwXV",
        "colab": {
          "base_uri": "https://localhost:8080/"
        },
        "outputId": "e4275d70-f425-4eba-c9b5-862c25a8d799"
      },
      "source": [
        "print(((3>2) or (1<9)) and (2!=3))"
      ],
      "execution_count": 26,
      "outputs": [
        {
          "output_type": "stream",
          "text": [
            "True\n"
          ],
          "name": "stdout"
        }
      ]
    },
    {
      "cell_type": "markdown",
      "metadata": {
        "id": "4h-oViRKvxJY"
      },
      "source": [
        "**[Slide No.- 27]**\n",
        "\n",
        "11. What is the output of the following assignment operator\n",
        "\n",
        "y = 10\n",
        "\n",
        "y += 2\n",
        "\n",
        "print(y)"
      ]
    },
    {
      "cell_type": "code",
      "metadata": {
        "id": "rK0jrT2Kv4Do",
        "colab": {
          "base_uri": "https://localhost:8080/"
        },
        "outputId": "cf947749-a5af-47a0-cdae-31ced250feee"
      },
      "source": [
        "y = 10\n",
        "\n",
        "y += 2\n",
        "\n",
        "print(y)"
      ],
      "execution_count": 27,
      "outputs": [
        {
          "output_type": "stream",
          "text": [
            "12\n"
          ],
          "name": "stdout"
        }
      ]
    },
    {
      "cell_type": "markdown",
      "metadata": {
        "id": "RodqAVuDRXcY"
      },
      "source": [
        "**[Slide No.-27]**\n",
        "\n",
        "12. What is the output of the code .\n",
        "\n",
        "x=5\n",
        "\n",
        "x +=x+4\n",
        "\n",
        "print(x)\n"
      ]
    },
    {
      "cell_type": "code",
      "metadata": {
        "id": "qZ7OH6KIRaJJ",
        "colab": {
          "base_uri": "https://localhost:8080/"
        },
        "outputId": "1c6aaed3-dd4b-4df9-aa46-d4a965eeb0b2"
      },
      "source": [
        "x=5\n",
        "\n",
        "x +=x+4\n",
        "\n",
        "print(x)"
      ],
      "execution_count": 28,
      "outputs": [
        {
          "output_type": "stream",
          "text": [
            "14\n"
          ],
          "name": "stdout"
        }
      ]
    },
    {
      "cell_type": "markdown",
      "metadata": {
        "id": "ymG3gW4eT3F7"
      },
      "source": [
        "**[Slide No.-27]**\n",
        "\n",
        "13.  what is the output :\n",
        "\n",
        "y=7\n",
        "\n",
        "x  +=y+4\n",
        "\n",
        "print(x)"
      ]
    },
    {
      "cell_type": "code",
      "metadata": {
        "id": "4tW3Sr0bSOTK",
        "colab": {
          "base_uri": "https://localhost:8080/"
        },
        "outputId": "e0dce547-146f-474d-9596-90c999d4505c"
      },
      "source": [
        "y=7\n",
        "\n",
        "x=5\n",
        "x +=y+4\n",
        "\n",
        "print(x)"
      ],
      "execution_count": 33,
      "outputs": [
        {
          "output_type": "stream",
          "text": [
            "16\n"
          ],
          "name": "stdout"
        }
      ]
    }
  ]
}